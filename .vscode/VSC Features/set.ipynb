{
 "cells": [
  {
   "attachments": {},
   "cell_type": "markdown",
   "metadata": {},
   "source": [
    "# Settings\n",
    "Es gibt Settings für Users und fürs Workspace\n",
    "\n",
    "### User Settings:\n",
    "Einstellung Projektübergreifend. (Also Setting für alle Projekten)\n",
    "\n",
    "\n",
    "### Workspace Settings:\n",
    "Setting für ein bestimmten Projekt\n",
    "Setting Speziell für ein Projekt\n",
    "einstellung ist spezifisch (Speziel)\n",
    "\n",
    "\n",
    "VS guckt immer zuerst die Einstellung von Workspace\n",
    "und nimmt zuerst immer diese Einstellung.\n",
    "\n",
    "Wenn Hier keine Einstellung ist, dann guckt VS die Einstellung von User an"
   ]
  },
  {
   "cell_type": "code",
   "execution_count": null,
   "metadata": {},
   "outputs": [],
   "source": []
  },
  {
   "cell_type": "code",
   "execution_count": null,
   "metadata": {},
   "outputs": [],
   "source": []
  }
 ],
 "metadata": {
  "kernelspec": {
   "display_name": "Python 3",
   "language": "python",
   "name": "python3"
  },
  "language_info": {
   "codemirror_mode": {
    "name": "ipython",
    "version": 3
   },
   "file_extension": ".py",
   "mimetype": "text/x-python",
   "name": "python",
   "nbconvert_exporter": "python",
   "pygments_lexer": "ipython3",
   "version": "3.11.1"
  },
  "orig_nbformat": 4,
  "vscode": {
   "interpreter": {
    "hash": "76f0f2fedf7538c18134d2983db3abc5b59df218e79016ab1f7c46008c1ff9d1"
   }
  }
 },
 "nbformat": 4,
 "nbformat_minor": 2
}
