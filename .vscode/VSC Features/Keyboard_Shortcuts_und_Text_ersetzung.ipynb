{
 "cells": [
  {
   "cell_type": "code",
   "execution_count": 3,
   "metadata": {},
   "outputs": [
    {
     "name": "stdout",
     "output_type": "stream",
     "text": [
      "hallo World\n",
      "hallo World\n",
      "hallo World\n",
      "hallo World\n"
     ]
    }
   ],
   "source": [
    "print(\"hallo World\")\n",
    "print(\"hallo World\")\n",
    "print(\"hallo World\")\n",
    "print(\"hallo World\")"
   ]
  },
  {
   "cell_type": "code",
   "execution_count": 4,
   "metadata": {},
   "outputs": [
    {
     "name": "stdout",
     "output_type": "stream",
     "text": [
      "hallo World1\n",
      "hallo World2\n",
      "Falabem World3\n",
      "hallo World4\n"
     ]
    }
   ],
   "source": [
    "print(\"hallo World1\")\n",
    "print(\"hallo World2\")\n",
    "print(\"Falabem World3\")\n",
    "print(\"hallo World4\")\n"
   ]
  },
  {
   "cell_type": "code",
   "execution_count": 6,
   "metadata": {},
   "outputs": [
    {
     "name": "stdout",
     "output_type": "stream",
     "text": [
      "print(\"haallo Nelson\")\n",
      "\n",
      "\n",
      "\n",
      "\n",
      "\n",
      "\n",
      "\n"
     ]
    }
   ],
   "source": [
    "import os\n",
    "\n",
    "with open(\"./Settings.py\", \"r\") as nel:\n",
    "    for i in nel:\n",
    "        print(i)\n",
    "        \n",
    "print(\"Ich verstehe nicht warum dieses Projekt nicht gepusht wird\")"
   ]
  }
 ],
 "metadata": {
  "kernelspec": {
   "display_name": "Python 3",
   "language": "python",
   "name": "python3"
  },
  "language_info": {
   "codemirror_mode": {
    "name": "ipython",
    "version": 3
   },
   "file_extension": ".py",
   "mimetype": "text/x-python",
   "name": "python",
   "nbconvert_exporter": "python",
   "pygments_lexer": "ipython3",
   "version": "3.11.1"
  },
  "orig_nbformat": 4,
  "vscode": {
   "interpreter": {
    "hash": "76f0f2fedf7538c18134d2983db3abc5b59df218e79016ab1f7c46008c1ff9d1"
   }
  }
 },
 "nbformat": 4,
 "nbformat_minor": 2
}
